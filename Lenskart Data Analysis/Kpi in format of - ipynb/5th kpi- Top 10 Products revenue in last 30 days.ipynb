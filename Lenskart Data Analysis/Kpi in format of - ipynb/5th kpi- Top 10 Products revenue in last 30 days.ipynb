{
 "cells": [
  {
   "cell_type": "code",
   "execution_count": 0,
   "metadata": {
    "application/vnd.databricks.v1+cell": {
     "cellMetadata": {
      "byteLimit": 2048000,
      "rowLimit": 10000
     },
     "inputWidgets": {},
     "nuid": "b7b67b48-8e7b-4a95-98e8-8837511479c8",
     "showTitle": false,
     "title": ""
    }
   },
   "outputs": [],
   "source": [
    "# List the files inside the dataset_Lenskart directory\n",
    "display(dbutils.fs.ls('dbfs:/mnt/blobstorage/dataset_Lenskart/'))"
   ]
  },
  {
   "cell_type": "code",
   "execution_count": 0,
   "metadata": {
    "application/vnd.databricks.v1+cell": {
     "cellMetadata": {
      "byteLimit": 2048000,
      "rowLimit": 10000
     },
     "inputWidgets": {},
     "nuid": "d782e039-9b59-4ef5-8bdd-75dd30bdd5fa",
     "showTitle": false,
     "title": ""
    }
   },
   "outputs": [],
   "source": [
    "df_product= spark.read.csv('/mnt/blobstorage/dataset_Lenskart/products_tf.csv',inferSchema=True, header=True)\n",
    "df_transaction= spark.read.csv('/mnt/blobstorage/dataset_Lenskart/transaction.csv',inferSchema=True, header=True)"
   ]
  },
  {
   "cell_type": "code",
   "execution_count": 0,
   "metadata": {
    "application/vnd.databricks.v1+cell": {
     "cellMetadata": {
      "byteLimit": 2048000,
      "rowLimit": 10000
     },
     "inputWidgets": {},
     "nuid": "b44bfcbb-4856-4c3c-81f9-0b118c0ce8b7",
     "showTitle": false,
     "title": ""
    }
   },
   "outputs": [],
   "source": [
    "from pyspark.sql.functions import col, sum as spark_sum\n",
    "\n",
    "# Merge transaction and product DataFrames\n",
    "merged_df = df_transaction.join(df_product,'product_id','inner')"
   ]
  },
  {
   "cell_type": "code",
   "execution_count": 0,
   "metadata": {
    "application/vnd.databricks.v1+cell": {
     "cellMetadata": {
      "byteLimit": 2048000,
      "rowLimit": 10000
     },
     "inputWidgets": {},
     "nuid": "f851fa69-3b70-4895-93c5-58d153b9f592",
     "showTitle": false,
     "title": ""
    }
   },
   "outputs": [],
   "source": [
    "# Drop duplicates\n",
    "merged_df = merged_df.dropDuplicates()"
   ]
  },
  {
   "cell_type": "code",
   "execution_count": 0,
   "metadata": {
    "application/vnd.databricks.v1+cell": {
     "cellMetadata": {
      "byteLimit": 2048000,
      "rowLimit": 10000
     },
     "inputWidgets": {},
     "nuid": "efaa6f86-98ac-4155-8bfe-a0a0d42d7a29",
     "showTitle": false,
     "title": ""
    }
   },
   "outputs": [],
   "source": [
    "from pyspark.sql import functions as F\n",
    "\n",
    "# Convert order_date column to datetime\n",
    "merged_df = merged_df.withColumn(\"order_date\", F.col(\"order_date\").cast(\"date\"))\n",
    "\n",
    "# Calculate start date and end date for the last 30 days\n",
    "max_order_date = merged_df.select(F.max(\"order_date\")).collect()[0][0]\n",
    "start_date = max_order_date - F.expr(\"INTERVAL 30 DAYS\")\n",
    "\n",
    "# Filter for the last 30 days\n",
    "last_30_days_df = merged_df.filter((F.col(\"order_date\") >= start_date) & (F.col(\"order_date\") <= max_order_date))\n"
   ]
  },
  {
   "cell_type": "code",
   "execution_count": 0,
   "metadata": {
    "application/vnd.databricks.v1+cell": {
     "cellMetadata": {
      "byteLimit": 2048000,
      "rowLimit": 10000
     },
     "inputWidgets": {},
     "nuid": "d9bf8e0d-9125-4964-8da6-40bce9b3464d",
     "showTitle": false,
     "title": ""
    }
   },
   "outputs": [],
   "source": [
    "last_30_days_df.display()"
   ]
  },
  {
   "cell_type": "code",
   "execution_count": 0,
   "metadata": {
    "application/vnd.databricks.v1+cell": {
     "cellMetadata": {
      "byteLimit": 2048000,
      "rowLimit": 10000
     },
     "inputWidgets": {},
     "nuid": "4572d78f-015e-444f-b8b0-3a12a314a709",
     "showTitle": false,
     "title": ""
    }
   },
   "outputs": [],
   "source": [
    "# Calculate revenue as the product of quantity and price\n",
    "last_30_days_df = last_30_days_df.withColumn(\"revenue\", F.col(\"quantity\") * F.col(' price'))\n",
    "\n",
    "# Group by product_id and title, aggregate sum of quantity and revenue\n",
    "revenue_by_product = last_30_days_df.groupBy(\"product_id\", ' title', ' price') \\\n",
    "    .agg(F.sum(\"quantity\").alias(\"total_quantity\"), F.sum(\"revenue\").alias(\"total_revenue\"))\n",
    "\n",
    "# Calculate top 10 products by revenue\n",
    "top_10_products = revenue_by_product.orderBy(F.col(\"total_revenue\").desc()).limit(10)\n"
   ]
  },
  {
   "cell_type": "code",
   "execution_count": 0,
   "metadata": {
    "application/vnd.databricks.v1+cell": {
     "cellMetadata": {
      "byteLimit": 2048000,
      "rowLimit": 10000
     },
     "inputWidgets": {},
     "nuid": "9e4dae6d-3706-4d00-a776-1d479d8fa629",
     "showTitle": false,
     "title": ""
    }
   },
   "outputs": [],
   "source": [
    "top_10_products.display()"
   ]
  }
 ],
 "metadata": {
  "application/vnd.databricks.v1+notebook": {
   "dashboards": [],
   "environmentMetadata": null,
   "language": "python",
   "notebookMetadata": {
    "pythonIndentUnit": 4
   },
   "notebookName": "5th kpi- Top 10 Products revenue in last 30 days",
   "widgets": {}
  }
 },
 "nbformat": 4,
 "nbformat_minor": 0
}
