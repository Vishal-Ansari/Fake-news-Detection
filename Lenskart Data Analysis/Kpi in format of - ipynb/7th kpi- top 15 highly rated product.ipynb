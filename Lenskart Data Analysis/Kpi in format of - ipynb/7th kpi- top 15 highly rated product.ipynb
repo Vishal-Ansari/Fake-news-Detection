{
 "cells": [
  {
   "cell_type": "code",
   "execution_count": 0,
   "metadata": {
    "application/vnd.databricks.v1+cell": {
     "cellMetadata": {
      "byteLimit": 2048000,
      "rowLimit": 10000
     },
     "inputWidgets": {},
     "nuid": "7d95ecc2-48e0-41d2-b3a5-ddf19cf1671f",
     "showTitle": false,
     "title": ""
    }
   },
   "outputs": [],
   "source": [
    "# List the files inside the dataset_Lenskart directory\n",
    "display(dbutils.fs.ls('dbfs:/mnt/blobstorage/dataset_Lenskart/'))"
   ]
  },
  {
   "cell_type": "code",
   "execution_count": 0,
   "metadata": {
    "application/vnd.databricks.v1+cell": {
     "cellMetadata": {
      "byteLimit": 2048000,
      "rowLimit": 10000
     },
     "inputWidgets": {},
     "nuid": "c276f7dd-a93a-47ec-a883-920f82a09ab7",
     "showTitle": false,
     "title": ""
    }
   },
   "outputs": [],
   "source": [
    "df_product= spark.read.csv('/mnt/blobstorage/dataset_Lenskart/products_tf.csv',inferSchema=True, header=True)\n",
    "df_transaction= spark.read.csv('/mnt/blobstorage/dataset_Lenskart/transaction.csv',inferSchema=True, header=True)"
   ]
  },
  {
   "cell_type": "code",
   "execution_count": 0,
   "metadata": {
    "application/vnd.databricks.v1+cell": {
     "cellMetadata": {
      "byteLimit": 2048000,
      "rowLimit": 10000
     },
     "inputWidgets": {},
     "nuid": "55d8688a-61c9-4d38-a2e1-ca9220f76821",
     "showTitle": false,
     "title": ""
    }
   },
   "outputs": [],
   "source": [
    "from pyspark.sql.functions import col\n",
    "\n",
    "# Join transaction and product tables\n",
    "df_combined = df_transaction.join(df_product, 'product_id', 'inner')"
   ]
  },
  {
   "cell_type": "code",
   "execution_count": 0,
   "metadata": {
    "application/vnd.databricks.v1+cell": {
     "cellMetadata": {
      "byteLimit": 2048000,
      "rowLimit": 10000
     },
     "inputWidgets": {},
     "nuid": "17edb838-7cd7-42cc-b65f-535209680e69",
     "showTitle": false,
     "title": ""
    }
   },
   "outputs": [],
   "source": [
    "df_combined.display()"
   ]
  },
  {
   "cell_type": "code",
   "execution_count": 0,
   "metadata": {
    "application/vnd.databricks.v1+cell": {
     "cellMetadata": {
      "byteLimit": 2048000,
      "rowLimit": 10000
     },
     "inputWidgets": {},
     "nuid": "880d6863-37f7-4ba7-81d5-f92f80342d42",
     "showTitle": false,
     "title": ""
    }
   },
   "outputs": [],
   "source": [
    "from pyspark.sql import functions as F\n",
    "\n",
    "# Join the DataFrames on product_id\n",
    "df_combined = df_product.join(df_transaction, on='product_id', how='inner')\n",
    "\n",
    "# Calculate sales for each product\n",
    "df_combined = df_combined.withColumn('sales', F.col('quantity') * F.col(' price'))\n",
    "\n",
    "# Calculate cost for each product\n",
    "df_combined = df_combined.withColumn('cost', F.col('quantity') * F.col('cost_of_product'))\n",
    "\n",
    "# Group by product_id and sum the sales and cost\n",
    "product_sales = df_combined.groupby('product_id').agg(F.sum('sales').alias('total_sales'), F.sum('cost').alias('total_cost'))\n",
    "\n",
    "product_sales= product_sales.withColumn('profit',F.col('total_sales')-F.col('total_cost'))\n"
   ]
  },
  {
   "cell_type": "code",
   "execution_count": 0,
   "metadata": {
    "application/vnd.databricks.v1+cell": {
     "cellMetadata": {
      "byteLimit": 2048000,
      "rowLimit": 10000
     },
     "inputWidgets": {},
     "nuid": "30d48e5c-a3c5-409a-9f93-3b09cb7600bb",
     "showTitle": false,
     "title": ""
    }
   },
   "outputs": [],
   "source": [
    "# Display the result\n",
    "product_sales.display()"
   ]
  },
  {
   "cell_type": "code",
   "execution_count": 0,
   "metadata": {
    "application/vnd.databricks.v1+cell": {
     "cellMetadata": {
      "byteLimit": 2048000,
      "rowLimit": 10000
     },
     "inputWidgets": {},
     "nuid": "d9772f5b-f373-4787-88e5-a150fb77f80d",
     "showTitle": false,
     "title": ""
    }
   },
   "outputs": [],
   "source": [
    "top_15_product_acc_sales = product_sales.orderBy('total_sales', ascending=False).limit(15)\n"
   ]
  },
  {
   "cell_type": "code",
   "execution_count": 0,
   "metadata": {
    "application/vnd.databricks.v1+cell": {
     "cellMetadata": {
      "byteLimit": 2048000,
      "rowLimit": 10000
     },
     "inputWidgets": {},
     "nuid": "179aaff1-33a8-4139-859a-a8a513a3f186",
     "showTitle": false,
     "title": ""
    }
   },
   "outputs": [],
   "source": [
    "top_15_product_acc_sales.display()"
   ]
  },
  {
   "cell_type": "code",
   "execution_count": 0,
   "metadata": {
    "application/vnd.databricks.v1+cell": {
     "cellMetadata": {
      "byteLimit": 2048000,
      "rowLimit": 10000
     },
     "inputWidgets": {},
     "nuid": "021edbc2-a86b-463b-a509-d3087320040d",
     "showTitle": false,
     "title": ""
    }
   },
   "outputs": [],
   "source": [
    "top_15_product_acc_profit = product_sales.orderBy('profit', ascending=False).limit(15)"
   ]
  },
  {
   "cell_type": "code",
   "execution_count": 0,
   "metadata": {
    "application/vnd.databricks.v1+cell": {
     "cellMetadata": {
      "byteLimit": 2048000,
      "rowLimit": 10000
     },
     "inputWidgets": {},
     "nuid": "23238de6-3a59-4da8-a835-2306a36bcfa2",
     "showTitle": false,
     "title": ""
    }
   },
   "outputs": [],
   "source": [
    "top_15_product_acc_profit.display()"
   ]
  },
  {
   "cell_type": "code",
   "execution_count": 0,
   "metadata": {
    "application/vnd.databricks.v1+cell": {
     "cellMetadata": {
      "byteLimit": 2048000,
      "rowLimit": 10000
     },
     "inputWidgets": {},
     "nuid": "73fa13ce-839d-498e-a714-abc57271dcd6",
     "showTitle": false,
     "title": ""
    }
   },
   "outputs": [],
   "source": [
    "# Joining the top_15_sales with df_combined to get details of top selling products\n",
    "top_15_products_details_acc_sales = top_15_product_acc_sales.join(df_product, on='product_id', how='inner')\n",
    "\n",
    "# Sorting the top_15_products_details DataFrame by total_sales in descending order\n",
    "top_15_products_details_acc_sales = top_15_products_details_acc_sales.orderBy('total_sales', ascending=False)\n",
    "\n",
    "\n",
    "\n",
    "# Displaying the result\n",
    "top_15_products_details_acc_sales.display()\n"
   ]
  },
  {
   "cell_type": "code",
   "execution_count": 0,
   "metadata": {
    "application/vnd.databricks.v1+cell": {
     "cellMetadata": {
      "byteLimit": 2048000,
      "rowLimit": 10000
     },
     "inputWidgets": {},
     "nuid": "0fb88a51-3d74-4dcf-9c59-8ef697c30720",
     "showTitle": false,
     "title": ""
    }
   },
   "outputs": [],
   "source": [
    "# Joining the top_15_sales with df_combined to get details of top selling products\n",
    "top_15_products_details_acc_profit = top_15_product_acc_profit.join(df_product, on='product_id', how='inner')\n",
    "\n",
    "# Sorting the top_15_products_details DataFrame by total_sales in descending order\n",
    "top_15_products_details_acc_profit = top_15_products_details_acc_profit.orderBy('total_sales', ascending=False)\n",
    "\n",
    "\n",
    "\n",
    "# Displaying the result\n",
    "top_15_products_details_acc_profit.display()"
   ]
  }
 ],
 "metadata": {
  "application/vnd.databricks.v1+notebook": {
   "dashboards": [],
   "environmentMetadata": null,
   "language": "python",
   "notebookMetadata": {
    "pythonIndentUnit": 4
   },
   "notebookName": "7th kpi- top 15 highly rated product",
   "widgets": {}
  }
 },
 "nbformat": 4,
 "nbformat_minor": 0
}
