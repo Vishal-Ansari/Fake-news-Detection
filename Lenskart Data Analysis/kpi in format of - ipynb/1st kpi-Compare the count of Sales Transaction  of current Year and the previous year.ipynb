{
 "cells": [
  {
   "cell_type": "code",
   "execution_count": 0,
   "metadata": {
    "application/vnd.databricks.v1+cell": {
     "cellMetadata": {
      "byteLimit": 2048000,
      "rowLimit": 10000
     },
     "inputWidgets": {},
     "nuid": "8ea3fe13-4dea-45b6-91c9-846cf71068ff",
     "showTitle": false,
     "title": ""
    }
   },
   "outputs": [],
   "source": [
    "display(dbutils.fs.ls('dbfs:/mnt/blobstorage/dataset_Lenskart/'))"
   ]
  },
  {
   "cell_type": "code",
   "execution_count": 0,
   "metadata": {
    "application/vnd.databricks.v1+cell": {
     "cellMetadata": {
      "byteLimit": 2048000,
      "rowLimit": 10000
     },
     "inputWidgets": {},
     "nuid": "95b18dff-6cfd-4b14-94b6-7ec31cd18295",
     "showTitle": false,
     "title": ""
    }
   },
   "outputs": [],
   "source": [
    "from pyspark.sql.functions import year, to_date\n",
    "\n",
    "df_transaction = spark.read.format(\"csv\").option(\"header\", \"true\").load(\"dbfs:/mnt/blobstorage/dataset_Lenskart/transaction.csv\")\n",
    "\n",
    "# adding year column to perform kpi on yearly basis\n",
    "df_transaction = df_transaction.withColumn(\"order_year\", year(to_date(\"order_date\", \"dd-MM-yyyy\")))\n"
   ]
  },
  {
   "cell_type": "code",
   "execution_count": 0,
   "metadata": {
    "application/vnd.databricks.v1+cell": {
     "cellMetadata": {
      "byteLimit": 2048000,
      "rowLimit": 10000
     },
     "inputWidgets": {},
     "nuid": "0d6f09f1-d844-4044-a659-e8f6e02d0bfb",
     "showTitle": false,
     "title": ""
    }
   },
   "outputs": [],
   "source": [
    "df_transaction.display()"
   ]
  },
  {
   "cell_type": "code",
   "execution_count": 0,
   "metadata": {
    "application/vnd.databricks.v1+cell": {
     "cellMetadata": {
      "byteLimit": 2048000,
      "rowLimit": 10000
     },
     "inputWidgets": {},
     "nuid": "e6e83559-c834-4243-ab72-045fc7d8822b",
     "showTitle": false,
     "title": ""
    }
   },
   "outputs": [],
   "source": [
    "from pyspark.sql import functions as F\n",
    "\n",
    "grouped_df = df_transaction.groupBy('store_id', 'order_year')\n",
    "\n",
    "result_df = grouped_df.agg(F.count('transaction_id').alias('transaction_count'))\n",
    "result_df= result_df.orderBy('store_id')\n",
    "\n",
    "result_df.display()\n"
   ]
  },
  {
   "cell_type": "code",
   "execution_count": 0,
   "metadata": {
    "application/vnd.databricks.v1+cell": {
     "cellMetadata": {},
     "inputWidgets": {},
     "nuid": "9d677858-121f-4bdb-9907-5aae9b8d7007",
     "showTitle": false,
     "title": ""
    }
   },
   "outputs": [],
   "source": [
    "\n",
    "current_year = 2024\n",
    "previous_year = current_year - 1\n",
    "\n",
    "# Filter data for current year and previous year\n",
    "current_year_transactions = df_transaction.filter(df_transaction[\"order_year\"] == current_year).count()\n",
    "previous_year_transactions = df_transaction.filter(df_transaction[\"order_year\"] == previous_year).count()\n",
    "\n",
    "print(\"Current Year Transactions:\", current_year_transactions)\n",
    "print(\"Previous Year Transactions:\", previous_year_transactions)"
   ]
  },
  {
   "cell_type": "code",
   "execution_count": 0,
   "metadata": {
    "application/vnd.databricks.v1+cell": {
     "cellMetadata": {
      "byteLimit": 2048000,
      "rowLimit": 10000
     },
     "inputWidgets": {},
     "nuid": "f215e824-f47b-4605-8f0d-875a64f05bfd",
     "showTitle": false,
     "title": ""
    }
   },
   "outputs": [],
   "source": [
    "import matplotlib.pyplot as plt\n",
    "\n",
    "# Define data for visualization\n",
    "years = ['Current Year', 'Previous Year']\n",
    "transaction_counts = [current_year_transactions, previous_year_transactions]\n",
    "\n",
    "# Create bar chart\n",
    "plt.figure(figsize=(8, 6))\n",
    "plt.bar(years, transaction_counts, color=['blue', 'orange'])\n",
    "plt.xlabel('Year')\n",
    "plt.ylabel('Transaction Count')\n",
    "plt.title('Comparison of Transaction Counts between Current and Previous Year')\n",
    "plt.show()\n"
   ]
  }
 ],
 "metadata": {
  "application/vnd.databricks.v1+notebook": {
   "dashboards": [],
   "environmentMetadata": null,
   "language": "python",
   "notebookMetadata": {
    "pythonIndentUnit": 4
   },
   "notebookName": "1st kpi-Compare the count of Sales Transaction  of current Year and the previous year",
   "widgets": {}
  }
 },
 "nbformat": 4,
 "nbformat_minor": 0
}
